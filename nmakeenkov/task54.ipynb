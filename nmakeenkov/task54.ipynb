{
 "cells": [
  {
   "cell_type": "code",
   "execution_count": 1,
   "metadata": {
    "collapsed": true
   },
   "outputs": [],
   "source": [
    "import numpy as np\n",
    "import pandas as pd"
   ]
  },
  {
   "cell_type": "code",
   "execution_count": 100,
   "metadata": {
    "collapsed": false
   },
   "outputs": [],
   "source": [
    "data = pd.read_csv('turkey.csv')"
   ]
  },
  {
   "cell_type": "code",
   "execution_count": 26,
   "metadata": {
    "collapsed": false
   },
   "outputs": [
    {
     "data": {
      "text/html": [
       "<div>\n",
       "<table border=\"1\" class=\"dataframe\">\n",
       "  <thead>\n",
       "    <tr style=\"text-align: right;\">\n",
       "      <th></th>\n",
       "      <th>NAPR</th>\n",
       "      <th>PERIOD</th>\n",
       "      <th>STRANA</th>\n",
       "      <th>TNVED</th>\n",
       "      <th>EDIZM</th>\n",
       "      <th>STOIM</th>\n",
       "      <th>NETTO</th>\n",
       "      <th>KOL</th>\n",
       "      <th>REGION</th>\n",
       "      <th>REGION_S</th>\n",
       "    </tr>\n",
       "  </thead>\n",
       "  <tbody>\n",
       "    <tr>\n",
       "      <th>0</th>\n",
       "      <td>ЭК</td>\n",
       "      <td>2013</td>\n",
       "      <td>TR</td>\n",
       "      <td>4802</td>\n",
       "      <td>NaN</td>\n",
       "      <td>69148.79</td>\n",
       "      <td>59577.74</td>\n",
       "      <td>0.0</td>\n",
       "      <td>40000 - ГОРОД САНКТ-ПЕТЕРБУРГ ГОРОД ФЕДЕРАЛЬНО...</td>\n",
       "      <td>02-СЕВЕРО-ЗАПАДНЫЙ ФЕДЕРАЛЬНЫЙ ОКРУГ</td>\n",
       "    </tr>\n",
       "    <tr>\n",
       "      <th>1</th>\n",
       "      <td>ИМ</td>\n",
       "      <td>2013</td>\n",
       "      <td>TR</td>\n",
       "      <td>8456</td>\n",
       "      <td>ШТ</td>\n",
       "      <td>316260.34</td>\n",
       "      <td>27953.44</td>\n",
       "      <td>4.0</td>\n",
       "      <td>65000 - СВЕРДЛОВСКАЯ ОБЛАСТЬ</td>\n",
       "      <td>05-УРАЛЬСКИЙ ФЕДЕРАЛЬНЫЙ ОКРУГ</td>\n",
       "    </tr>\n",
       "    <tr>\n",
       "      <th>2</th>\n",
       "      <td>ИМ</td>\n",
       "      <td>2013</td>\n",
       "      <td>TR</td>\n",
       "      <td>6205</td>\n",
       "      <td>ШТ</td>\n",
       "      <td>14285607.04</td>\n",
       "      <td>274439.70</td>\n",
       "      <td>1066635.0</td>\n",
       "      <td>45000 - ГОРОД МОСКВА СТОЛИЦА РОССИЙСКОЙ ФЕДЕРА...</td>\n",
       "      <td>01-ЦЕНТРАЛЬНЫЙ ФЕДЕРАЛЬНЫЙ ОКРУГ</td>\n",
       "    </tr>\n",
       "    <tr>\n",
       "      <th>3</th>\n",
       "      <td>ИМ</td>\n",
       "      <td>2013</td>\n",
       "      <td>TR</td>\n",
       "      <td>6205</td>\n",
       "      <td>ШТ</td>\n",
       "      <td>333598.31</td>\n",
       "      <td>17633.42</td>\n",
       "      <td>69237.0</td>\n",
       "      <td>28000 - ТВЕРСКАЯ ОБЛАСТЬ</td>\n",
       "      <td>01-ЦЕНТРАЛЬНЫЙ ФЕДЕРАЛЬНЫЙ ОКРУГ</td>\n",
       "    </tr>\n",
       "    <tr>\n",
       "      <th>4</th>\n",
       "      <td>ЭК</td>\n",
       "      <td>2013</td>\n",
       "      <td>TR</td>\n",
       "      <td>8205</td>\n",
       "      <td>NaN</td>\n",
       "      <td>185.00</td>\n",
       "      <td>13.50</td>\n",
       "      <td>0.0</td>\n",
       "      <td>03000 - КРАСНОДАРСКИЙ КРАЙ</td>\n",
       "      <td>03-ЮЖНЫЙ ФЕДЕРАЛЬНЫЙ ОКРУГ</td>\n",
       "    </tr>\n",
       "  </tbody>\n",
       "</table>\n",
       "</div>"
      ],
      "text/plain": [
       "  NAPR  PERIOD STRANA TNVED EDIZM        STOIM      NETTO        KOL  \\\n",
       "0   ЭК    2013     TR  4802   NaN     69148.79   59577.74        0.0   \n",
       "1   ИМ    2013     TR  8456    ШТ    316260.34   27953.44        4.0   \n",
       "2   ИМ    2013     TR  6205    ШТ  14285607.04  274439.70  1066635.0   \n",
       "3   ИМ    2013     TR  6205    ШТ    333598.31   17633.42    69237.0   \n",
       "4   ЭК    2013     TR  8205   NaN       185.00      13.50        0.0   \n",
       "\n",
       "                                              REGION  \\\n",
       "0  40000 - ГОРОД САНКТ-ПЕТЕРБУРГ ГОРОД ФЕДЕРАЛЬНО...   \n",
       "1                       65000 - СВЕРДЛОВСКАЯ ОБЛАСТЬ   \n",
       "2  45000 - ГОРОД МОСКВА СТОЛИЦА РОССИЙСКОЙ ФЕДЕРА...   \n",
       "3                           28000 - ТВЕРСКАЯ ОБЛАСТЬ   \n",
       "4                         03000 - КРАСНОДАРСКИЙ КРАЙ   \n",
       "\n",
       "                               REGION_S  \n",
       "0  02-СЕВЕРО-ЗАПАДНЫЙ ФЕДЕРАЛЬНЫЙ ОКРУГ  \n",
       "1        05-УРАЛЬСКИЙ ФЕДЕРАЛЬНЫЙ ОКРУГ  \n",
       "2      01-ЦЕНТРАЛЬНЫЙ ФЕДЕРАЛЬНЫЙ ОКРУГ  \n",
       "3      01-ЦЕНТРАЛЬНЫЙ ФЕДЕРАЛЬНЫЙ ОКРУГ  \n",
       "4            03-ЮЖНЫЙ ФЕДЕРАЛЬНЫЙ ОКРУГ  "
      ]
     },
     "execution_count": 26,
     "metadata": {},
     "output_type": "execute_result"
    }
   ],
   "source": [
    "data.head(5)"
   ]
  },
  {
   "cell_type": "code",
   "execution_count": 101,
   "metadata": {
    "collapsed": false
   },
   "outputs": [],
   "source": [
    "tnved_data = pd.read_csv('tnved.csv', sep=\"\\t\")\n",
    "tnved = {}\n",
    "for a in tnved_data.values:\n",
    "    tnved[a[0][:4]] = a[1]"
   ]
  },
  {
   "cell_type": "code",
   "execution_count": 102,
   "metadata": {
    "collapsed": false
   },
   "outputs": [
    {
     "data": {
      "text/plain": [
       "31537"
      ]
     },
     "execution_count": 102,
     "metadata": {},
     "output_type": "execute_result"
    }
   ],
   "source": [
    "len(data)"
   ]
  },
  {
   "cell_type": "code",
   "execution_count": 105,
   "metadata": {
    "collapsed": false
   },
   "outputs": [],
   "source": [
    "f = open('result.csv', 'w')\n",
    "f.write('inout,inout_,year,cost,netto,count,region,region_,tnved\\n')\n",
    "for x in data.values:\n",
    "    res = \"\"\n",
    "    if x[0] == 'ЭК':\n",
    "        res = \"Экспорт,1\"\n",
    "    elif x[0] == 'ИМ':\n",
    "        res = \"Импорт,0\"\n",
    "    else:\n",
    "        raise Exception(x[1])\n",
    "    res += ',' + str(x[1]) + ',' + str(x[5]) + ',' + str(x[6]) + ',' + str(x[7]) + ','\n",
    "    res = res.decode('utf-8')\n",
    "    reg = x[8].split('- ')[1].decode('utf-8')\n",
    "    region = \"\".decode('utf-8')\n",
    "    for i, c in enumerate(reg):\n",
    "        if i == 0 or reg[i - 1] == ' ':\n",
    "            region += c.upper()\n",
    "        else:\n",
    "            region += c.lower()\n",
    "    res += region + ',' + str(int(x[9][:2])) + ','\n",
    "    if x[3] in tnved:\n",
    "        res += tnved[x[3]].split(',')[0].split('(')[0].decode('utf-8')\n",
    "    else:\n",
    "        if x[3] != 'SSSS':\n",
    "            print(x[3])\n",
    "        res += x[3]\n",
    "    res += '\\n'\n",
    "    f.write(res.encode('utf-8'))\n",
    "f.close()"
   ]
  },
  {
   "cell_type": "code",
   "execution_count": null,
   "metadata": {
    "collapsed": true
   },
   "outputs": [],
   "source": []
  }
 ],
 "metadata": {
  "kernelspec": {
   "display_name": "Python 2",
   "language": "python",
   "name": "python2"
  },
  "language_info": {
   "codemirror_mode": {
    "name": "ipython",
    "version": 2
   },
   "file_extension": ".py",
   "mimetype": "text/x-python",
   "name": "python",
   "nbconvert_exporter": "python",
   "pygments_lexer": "ipython2",
   "version": "2.7.11"
  }
 },
 "nbformat": 4,
 "nbformat_minor": 0
}
